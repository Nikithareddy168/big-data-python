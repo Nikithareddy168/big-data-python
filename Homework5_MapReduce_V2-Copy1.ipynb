{
 "cells": [
  {
   "cell_type": "markdown",
   "metadata": {},
   "source": [
    "###  ****** I tried working on the bigrams and trigrams using mrjobs but got stuck with some issues. So, I have done the problems using Natural Language Toolkit(Nltk).\n",
    "\n",
    "###  I have referred to the link for MRJob https://pythonhosted.org/mrjob/guides/writing-mrjobs.html"
   ]
  },
  {
   "cell_type": "code",
   "execution_count": 20,
   "metadata": {
    "collapsed": true
   },
   "outputs": [],
   "source": [
    "%matplotlib inline\n",
    "import pandas as pd\n",
    "import numpy as np\n",
    "import matplotlib as mpl\n",
    "import matplotlib.pyplot as plt\n",
    "import mrjob as mr\n"
   ]
  },
  {
   "cell_type": "markdown",
   "metadata": {},
   "source": [
    "### Homework 5\n",
    "\n",
    "Copy this notebook. Rename it as: YOURNAME-HW4-mapreduce-XX\n",
    "\n",
    "with your name replacing YOURNAME and the xx replaced with the date you submit or copy this HW.\n",
    "\n",
    "Upload your completed jupyter notebook to elearning site as your homework submission. Do not put this notebook on your github.\n",
    "\n",
    "Do all the homeworks problems below:\n",
    "As noted doing the homework gets a 3 out of 5. Extension of homework to to implement an TD-IDF algorithm  (see below)\n",
    "\n",
    "Use the data/bible+shakes.nonpunc.txt file as the source of you analysis in this homework"
   ]
  },
  {
   "cell_type": "markdown",
   "metadata": {},
   "source": [
    "##Homework 5.1\n",
    " A bigram is the combination of words.  Find the 10 most common bigrams from the text.  Order counts in the bigram combination for example \"in the\" is not the same bigram as \"the in\"\n",
    "\n"
   ]
  },
  {
   "cell_type": "code",
   "execution_count": 21,
   "metadata": {},
   "outputs": [
    {
     "name": "stdout",
     "output_type": "stream",
     "text": [
      "Overwriting bigramCount.py\n"
     ]
    }
   ],
   "source": [
    "%%file bigramCount.py\n",
    "from mrjob.job import MRJob\n",
    "from operator import itemgetter\n",
    "import re\n",
    "from ast import literal_eval\n",
    "\n",
    "\n",
    "WORD_RE = re.compile(r\"[\\w']+\")  ## This regular expression matches the one or more word characters in the line\n",
    "#data=[]\n",
    "\n",
    "class MRWordBigramCount(MRJob):\n",
    "    def mapper(self, _, line):\n",
    "        lastword=\"\"\n",
    "        for word in WORD_RE.findall(line):\n",
    "            if lastword != \"\" and word != \"\":\n",
    "                yield(lastword.lower(),word.lower()),1\n",
    "            lastword = word\n",
    "        \n",
    "    def combiner(self,bigram,counts):\n",
    "        yield bigram, sum(counts)    ## combiner takes each bigram and sums up all the counts(i.e number of times the bigram occurs)\n",
    "    def reducer(self, bigram,counts):\n",
    "        yield (bigram, sum(counts))\n",
    "   \n",
    "      # while(bigram!=\"\"):\n",
    "      #      sums = sum(counts)\n",
    "       #     dt1 = tuple(bigram)+(sums,)\n",
    "        #    data.append((dt1))\n",
    "           # print data\n",
    "            \n",
    "        #sortedData = sorted(data,key=itemgetter(2))\n",
    "       # yield None, sortedData\n",
    "        \n",
    "if __name__=='__main__':MRWordBigramCount.run()"
   ]
  },
  {
   "cell_type": "markdown",
   "metadata": {},
   "source": [
    "### Note : In the mapper method we are going to run a loop over all the words in the line. Intially in the first run of the \"for\" loop, variable \"lastword\" is an empty string so it is not going to enter into the if statement. After if statement, \"lastword\" holds the first word in the line in the line and \"word\"  holds the second word in the line and each time a tuple is formed a count of 1 is added to it. The same process runs for all the other words in the line"
   ]
  },
  {
   "cell_type": "code",
   "execution_count": 22,
   "metadata": {},
   "outputs": [
    {
     "name": "stdout",
     "output_type": "stream",
     "text": [
      "[\"a\", \"firmament\"]\t1\n",
      "[\"above\", \"the\"]\t1\n",
      "[\"after\", \"his\"]\t1\n",
      "[\"and\", \"darkness\"]\t1\n",
      "[\"and\", \"divided\"]\t1\n",
      "[\"and\", \"god\"]\t11\n",
      "[\"and\", \"it\"]\t3\n",
      "[\"and\", \"let\"]\t2\n",
      "[\"and\", \"the\"]\t10\n",
      "[\"and\", \"there\"]\t1\n",
      "[\"and\", \"void\"]\t1\n",
      "[\"appear\", \"and\"]\t1\n",
      "[\"authorized\", \"king\"]\t1\n",
      "[\"be\", \"a\"]\t1\n",
      "[\"be\", \"gathered\"]\t1\n",
      "[\"be\", \"light\"]\t1\n",
      "[\"beginning\", \"god\"]\t1\n",
      "[\"bible\", \"authorized\"]\t1\n",
      "[\"bring\", \"forth\"]\t1\n",
      "[\"called\", \"he\"]\t1\n",
      "[\"called\", \"night\"]\t1\n",
      "[\"called\", \"the\"]\t3\n",
      "[\"created\", \"the\"]\t1\n",
      "[\"darkness\", \"he\"]\t1\n",
      "[\"darkness\", \"was\"]\t1\n",
      "[\"day\", \"and\"]\t1\n",
      "[\"deep\", \"and\"]\t1\n",
      "[\"divide\", \"the\"]\t1\n",
      "[\"divided\", \"the\"]\t2\n",
      "[\"dry\", \"land\"]\t2\n",
      "[\"earth\", \"and\"]\t2\n",
      "[\"earth\", \"bring\"]\t1\n",
      "[\"earth\", \"was\"]\t1\n",
      "[\"evening\", \"and\"]\t2\n",
      "[\"face\", \"of\"]\t2\n",
      "[\"firmament\", \"and\"]\t2\n",
      "[\"firmament\", \"from\"]\t1\n",
      "[\"firmament\", \"heaven\"]\t1\n",
      "[\"firmament\", \"in\"]\t1\n",
      "[\"first\", \"day\"]\t1\n",
      "[\"form\", \"and\"]\t1\n",
      "[\"forth\", \"grass\"]\t1\n",
      "[\"from\", \"the\"]\t3\n",
      "[\"fruit\", \"after\"]\t1\n",
      "[\"fruit\", \"tree\"]\t1\n",
      "[\"gathered\", \"together\"]\t1\n",
      "[\"gathering\", \"together\"]\t1\n",
      "[\"god\", \"called\"]\t3\n",
      "[\"god\", \"created\"]\t1\n",
      "[\"god\", \"divided\"]\t1\n",
      "[\"god\", \"made\"]\t1\n",
      "[\"god\", \"moved\"]\t1\n",
      "[\"god\", \"said\"]\t4\n",
      "[\"god\", \"saw\"]\t2\n",
      "[\"good\", \"and\"]\t1\n",
      "[\"grass\", \"the\"]\t1\n",
      "[\"he\", \"called\"]\t1\n",
      "[\"he\", \"seas\"]\t1\n",
      "[\"heaven\", \"and\"]\t2\n",
      "[\"heaven\", \"be\"]\t1\n",
      "[\"herb\", \"yielding\"]\t1\n",
      "[\"his\", \"kind\"]\t1\n",
      "[\"holy\", \"bible\"]\t1\n",
      "[\"in\", \"itself\"]\t1\n",
      "[\"in\", \"the\"]\t2\n",
      "[\"is\", \"in\"]\t1\n",
      "[\"it\", \"divide\"]\t1\n",
      "[\"it\", \"was\"]\t5\n",
      "[\"itself\", \"upon\"]\t1\n",
      "[\"james\", \"version\"]\t1\n",
      "[\"kind\", \"whose\"]\t1\n",
      "[\"king\", \"james\"]\t1\n",
      "[\"land\", \"appear\"]\t1\n",
      "[\"land\", \"earth\"]\t1\n",
      "[\"let\", \"it\"]\t1\n",
      "[\"let\", \"the\"]\t3\n",
      "[\"let\", \"there\"]\t2\n",
      "[\"light\", \"and\"]\t1\n",
      "[\"light\", \"day\"]\t1\n",
      "[\"light\", \"from\"]\t1\n",
      "[\"light\", \"that\"]\t1\n",
      "[\"made\", \"the\"]\t1\n",
      "[\"midst\", \"of\"]\t1\n",
      "[\"morning\", \"were\"]\t2\n",
      "[\"moved\", \"upon\"]\t1\n",
      "[\"night\", \"and\"]\t1\n",
      "[\"of\", \"god\"]\t1\n",
      "[\"of\", \"the\"]\t4\n",
      "[\"one\", \"place\"]\t1\n",
      "[\"place\", \"and\"]\t1\n",
      "[\"said\", \"let\"]\t4\n",
      "[\"saw\", \"that\"]\t1\n",
      "[\"saw\", \"the\"]\t1\n",
      "[\"seas\", \"and\"]\t1\n",
      "[\"second\", \"day\"]\t1\n",
      "[\"seed\", \"and\"]\t1\n",
      "[\"seed\", \"is\"]\t1\n",
      "[\"spirit\", \"of\"]\t1\n",
      "[\"textfile\", \"890904\"]\t1\n",
      "[\"that\", \"it\"]\t2\n",
      "[\"the\", \"beginning\"]\t1\n",
      "[\"the\", \"darkness\"]\t2\n",
      "[\"the\", \"deep\"]\t1\n",
      "[\"the\", \"dry\"]\t2\n",
      "[\"the\", \"earth\"]\t4\n",
      "[\"the\", \"evening\"]\t2\n",
      "[\"the\", \"face\"]\t2\n",
      "[\"the\", \"firmament\"]\t4\n",
      "[\"the\", \"first\"]\t1\n",
      "[\"the\", \"fruit\"]\t1\n",
      "[\"the\", \"gathering\"]\t1\n",
      "[\"the\", \"heaven\"]\t2\n",
      "[\"the\", \"herb\"]\t1\n",
      "[\"the\", \"light\"]\t3\n",
      "[\"the\", \"midst\"]\t1\n",
      "[\"the\", \"morning\"]\t2\n",
      "[\"the\", \"second\"]\t1\n",
      "[\"the\", \"spirit\"]\t1\n",
      "[\"the\", \"waters\"]\t8\n",
      "[\"there\", \"be\"]\t2\n",
      "[\"there\", \"was\"]\t1\n",
      "[\"together\", \"of\"]\t1\n",
      "[\"together\", \"unto\"]\t1\n",
      "[\"tree\", \"yielding\"]\t1\n",
      "[\"under\", \"the\"]\t2\n",
      "[\"unto\", \"one\"]\t1\n",
      "[\"upon\", \"the\"]\t3\n",
      "[\"version\", \"textfile\"]\t1\n",
      "[\"void\", \"and\"]\t1\n",
      "[\"was\", \"good\"]\t2\n",
      "[\"was\", \"light\"]\t1\n",
      "[\"was\", \"so\"]\t3\n",
      "[\"was\", \"upon\"]\t1\n",
      "[\"was\", \"without\"]\t1\n",
      "[\"waters\", \"and\"]\t1\n",
      "[\"waters\", \"called\"]\t1\n",
      "[\"waters\", \"from\"]\t1\n",
      "[\"waters\", \"under\"]\t1\n",
      "[\"waters\", \"which\"]\t2\n",
      "[\"were\", \"above\"]\t1\n",
      "[\"were\", \"the\"]\t2\n",
      "[\"were\", \"under\"]\t1\n",
      "[\"which\", \"were\"]\t2\n",
      "[\"whose\", \"seed\"]\t1\n",
      "[\"without\", \"form\"]\t1\n",
      "[\"yielding\", \"fruit\"]\t1\n",
      "[\"yielding\", \"seed\"]\t1\n"
     ]
    },
    {
     "name": "stderr",
     "output_type": "stream",
     "text": [
      "No configs found; falling back on auto-configuration\n",
      "Creating temp directory c:\\users\\nikitha\\appdata\\local\\temp\\bigramCount.Nikitha.20171022.151601.356000\n",
      "Running step 1 of 1...\n",
      "Streaming final output from c:\\users\\nikitha\\appdata\\local\\temp\\bigramCount.Nikitha.20171022.151601.356000\\output...\n",
      "Removing temp directory c:\\users\\nikitha\\appdata\\local\\temp\\bigramCount.Nikitha.20171022.151601.356000...\n"
     ]
    }
   ],
   "source": [
    "! python bigramCount.py ./.mrjob.conf data/test.txt"
   ]
  },
  {
   "cell_type": "markdown",
   "metadata": {},
   "source": [
    "## Homework 5.2\n",
    "Now do the same analysis but make the word order not count \"in the\" == \"the in\".  Find the 10 most common ordered bigrams from the alice text.  \n",
    " "
   ]
  },
  {
   "cell_type": "code",
   "execution_count": 29,
   "metadata": {},
   "outputs": [
    {
     "name": "stdout",
     "output_type": "stream",
     "text": [
      "3.2.3\n",
      "(('and', 'god'), 11)\n",
      "(('and', 'the'), 10)\n",
      "(('the', 'waters'), 8)\n",
      "(('it', 'was'), 5)\n",
      "(('the', 'firmament'), 4)\n",
      "(('of', 'the'), 4)\n",
      "(('god', 'said'), 4)\n",
      "(('the', 'earth'), 4)\n",
      "(('said', 'let'), 4)\n",
      "(('earth', 'and'), 3)\n"
     ]
    }
   ],
   "source": [
    "import nltk\n",
    "#print nltk.__version__\n",
    "\n",
    "f = open('data/test.txt')\n",
    "raw = f.read()\n",
    "tokens = nltk.word_tokenize(raw) # Tokenize breaks the text into words,phrases, symbols called tokens\n",
    "bgs = nltk.bigrams(tokens)\n",
    "#compute frequency distribution for all the bigrams in the text\n",
    "fdist = nltk.FreqDist(bgs)\n",
    "#print fdist.items()  ## \n",
    "#fdist.items() gives all the bigrams with their frequency distribution.\n",
    "for k,v in sorted(fdist.items(),key=lambda t:t[-1], reverse =True)[:10]:\n",
    "    print (k,v)"
   ]
  },
  {
   "cell_type": "markdown",
   "metadata": {},
   "source": [
    "### Reference : https://code.tutsplus.com/tutorials/introducing-the-natural-language-toolkit-nltk--cms-28620"
   ]
  },
  {
   "cell_type": "markdown",
   "metadata": {},
   "source": [
    "## Homework 5.3\n",
    "A trigram are three word combintation.  Find the 10 most common ordered trigrams from the alice text.  Make it so that the order of the words do not count in the trigram combination for example \"in the air\" is the same trigram as \"the air in\" or \"air in the\"...\n"
   ]
  },
  {
   "cell_type": "code",
   "execution_count": 48,
   "metadata": {},
   "outputs": [
    {
     "name": "stdout",
     "output_type": "stream",
     "text": [
      "Overwriting bigramCount.py\n"
     ]
    }
   ],
   "source": [
    "%%file bigramCount.py\n",
    "from mrjob.job import MRJob\n",
    "from operator import itemgetter\n",
    "import re\n",
    "from ast import literal_eval\n",
    "\n",
    "WORD_RE = re.compile(r\"[\\w']+\")\n",
    "data=[]\n",
    "\n",
    "class MRWordBigramCount(MRJob):\n",
    "    def mapper(self, _, line):\n",
    "        lastword=\"\"\n",
    "        prevword=\"\"\n",
    "        for word in WORD_RE.findall(line):\n",
    "            if prevword!=\"\" and lastword != \"\" and word != \"\":\n",
    "                yield(prevword.lower(),lastword.lower(),word.lower()),1\n",
    "            if lastword != word:    \n",
    "                lastword = word\n",
    "                prevword = lastword\n",
    "    def combiner(self,trigram,counts):\n",
    "        yield trigram, sum(counts)\n",
    "    def reducer(self, trigram,counts):\n",
    "        yield trigram, sum(counts)\n",
    "        \n",
    "if __name__=='__main__':MRWordBigramCount.run()"
   ]
  },
  {
   "cell_type": "code",
   "execution_count": 49,
   "metadata": {},
   "outputs": [
    {
     "name": "stdout",
     "output_type": "stream",
     "text": [
      "[\"a\", \"a\", \"firmament\"]\t1\n",
      "[\"above\", \"above\", \"the\"]\t1\n",
      "[\"after\", \"after\", \"his\"]\t1\n",
      "[\"and\", \"and\", \"darkness\"]\t1\n",
      "[\"and\", \"and\", \"divided\"]\t1\n",
      "[\"and\", \"and\", \"god\"]\t11\n",
      "[\"and\", \"and\", \"it\"]\t3\n",
      "[\"and\", \"and\", \"let\"]\t2\n",
      "[\"and\", \"and\", \"the\"]\t10\n",
      "[\"and\", \"and\", \"there\"]\t1\n",
      "[\"and\", \"and\", \"void\"]\t1\n",
      "[\"appear\", \"appear\", \"and\"]\t1\n",
      "[\"authorized\", \"authorized\", \"king\"]\t1\n",
      "[\"be\", \"be\", \"a\"]\t1\n",
      "[\"be\", \"be\", \"gathered\"]\t1\n",
      "[\"be\", \"be\", \"light\"]\t1\n",
      "[\"beginning\", \"beginning\", \"god\"]\t1\n",
      "[\"bible\", \"bible\", \"authorized\"]\t1\n",
      "[\"bring\", \"bring\", \"forth\"]\t1\n",
      "[\"called\", \"called\", \"he\"]\t1\n",
      "[\"called\", \"called\", \"night\"]\t1\n",
      "[\"called\", \"called\", \"the\"]\t3\n",
      "[\"created\", \"created\", \"the\"]\t1\n",
      "[\"darkness\", \"darkness\", \"he\"]\t1\n",
      "[\"darkness\", \"darkness\", \"was\"]\t1\n",
      "[\"day\", \"day\", \"and\"]\t1\n",
      "[\"deep\", \"deep\", \"and\"]\t1\n",
      "[\"divide\", \"divide\", \"the\"]\t1\n",
      "[\"divided\", \"divided\", \"the\"]\t2\n",
      "[\"dry\", \"dry\", \"land\"]\t2\n",
      "[\"earth\", \"earth\", \"and\"]\t2\n",
      "[\"earth\", \"earth\", \"bring\"]\t1\n",
      "[\"earth\", \"earth\", \"was\"]\t1\n",
      "[\"evening\", \"evening\", \"and\"]\t2\n",
      "[\"face\", \"face\", \"of\"]\t2\n",
      "[\"firmament\", \"firmament\", \"and\"]\t2\n",
      "[\"firmament\", \"firmament\", \"from\"]\t1\n",
      "[\"firmament\", \"firmament\", \"heaven\"]\t1\n",
      "[\"firmament\", \"firmament\", \"in\"]\t1\n",
      "[\"first\", \"first\", \"day\"]\t1\n",
      "[\"form\", \"form\", \"and\"]\t1\n",
      "[\"forth\", \"forth\", \"grass\"]\t1\n",
      "[\"from\", \"from\", \"the\"]\t3\n",
      "[\"fruit\", \"fruit\", \"after\"]\t1\n",
      "[\"fruit\", \"fruit\", \"tree\"]\t1\n",
      "[\"gathered\", \"gathered\", \"together\"]\t1\n",
      "[\"gathering\", \"gathering\", \"together\"]\t1\n",
      "[\"god\", \"god\", \"called\"]\t3\n",
      "[\"god\", \"god\", \"created\"]\t1\n",
      "[\"god\", \"god\", \"divided\"]\t1\n",
      "[\"god\", \"god\", \"made\"]\t1\n",
      "[\"god\", \"god\", \"moved\"]\t1\n",
      "[\"god\", \"god\", \"said\"]\t4\n",
      "[\"god\", \"god\", \"saw\"]\t2\n",
      "[\"good\", \"good\", \"and\"]\t1\n",
      "[\"grass\", \"grass\", \"the\"]\t1\n",
      "[\"he\", \"he\", \"called\"]\t1\n",
      "[\"he\", \"he\", \"seas\"]\t1\n",
      "[\"heaven\", \"heaven\", \"and\"]\t2\n",
      "[\"heaven\", \"heaven\", \"be\"]\t1\n",
      "[\"herb\", \"herb\", \"yielding\"]\t1\n",
      "[\"his\", \"his\", \"kind\"]\t1\n",
      "[\"holy\", \"holy\", \"bible\"]\t1\n",
      "[\"in\", \"in\", \"itself\"]\t1\n",
      "[\"in\", \"in\", \"the\"]\t2\n",
      "[\"is\", \"is\", \"in\"]\t1\n",
      "[\"it\", \"it\", \"divide\"]\t1\n",
      "[\"it\", \"it\", \"was\"]\t5\n",
      "[\"itself\", \"itself\", \"upon\"]\t1\n",
      "[\"james\", \"james\", \"version\"]\t1\n",
      "[\"kind\", \"kind\", \"whose\"]\t1\n",
      "[\"king\", \"king\", \"james\"]\t1\n",
      "[\"land\", \"land\", \"appear\"]\t1\n",
      "[\"land\", \"land\", \"earth\"]\t1\n",
      "[\"let\", \"let\", \"it\"]\t1\n",
      "[\"let\", \"let\", \"the\"]\t3\n",
      "[\"let\", \"let\", \"there\"]\t2\n",
      "[\"light\", \"light\", \"and\"]\t1\n",
      "[\"light\", \"light\", \"day\"]\t1\n",
      "[\"light\", \"light\", \"from\"]\t1\n",
      "[\"light\", \"light\", \"that\"]\t1\n",
      "[\"made\", \"made\", \"the\"]\t1\n",
      "[\"midst\", \"midst\", \"of\"]\t1\n",
      "[\"morning\", \"morning\", \"were\"]\t2\n",
      "[\"moved\", \"moved\", \"upon\"]\t1\n",
      "[\"night\", \"night\", \"and\"]\t1\n",
      "[\"of\", \"of\", \"god\"]\t1\n",
      "[\"of\", \"of\", \"the\"]\t4\n",
      "[\"one\", \"one\", \"place\"]\t1\n",
      "[\"place\", \"place\", \"and\"]\t1\n",
      "[\"said\", \"said\", \"let\"]\t4\n",
      "[\"saw\", \"saw\", \"that\"]\t1\n",
      "[\"saw\", \"saw\", \"the\"]\t1\n",
      "[\"seas\", \"seas\", \"and\"]\t1\n",
      "[\"second\", \"second\", \"day\"]\t1\n",
      "[\"seed\", \"seed\", \"and\"]\t1\n",
      "[\"seed\", \"seed\", \"is\"]\t1\n",
      "[\"spirit\", \"spirit\", \"of\"]\t1\n",
      "[\"textfile\", \"textfile\", \"890904\"]\t1\n",
      "[\"that\", \"that\", \"it\"]\t2\n",
      "[\"the\", \"the\", \"beginning\"]\t1\n",
      "[\"the\", \"the\", \"darkness\"]\t2\n",
      "[\"the\", \"the\", \"deep\"]\t1\n",
      "[\"the\", \"the\", \"dry\"]\t2\n",
      "[\"the\", \"the\", \"earth\"]\t4\n",
      "[\"the\", \"the\", \"evening\"]\t2\n",
      "[\"the\", \"the\", \"face\"]\t2\n",
      "[\"the\", \"the\", \"firmament\"]\t4\n",
      "[\"the\", \"the\", \"first\"]\t1\n",
      "[\"the\", \"the\", \"fruit\"]\t1\n",
      "[\"the\", \"the\", \"gathering\"]\t1\n",
      "[\"the\", \"the\", \"heaven\"]\t2\n",
      "[\"the\", \"the\", \"herb\"]\t1\n",
      "[\"the\", \"the\", \"light\"]\t3\n",
      "[\"the\", \"the\", \"midst\"]\t1\n",
      "[\"the\", \"the\", \"morning\"]\t2\n",
      "[\"the\", \"the\", \"second\"]\t1\n",
      "[\"the\", \"the\", \"spirit\"]\t1\n",
      "[\"the\", \"the\", \"waters\"]\t8\n",
      "[\"there\", \"there\", \"be\"]\t2\n",
      "[\"there\", \"there\", \"was\"]\t1\n",
      "[\"together\", \"together\", \"of\"]\t1\n",
      "[\"together\", \"together\", \"unto\"]\t1\n",
      "[\"tree\", \"tree\", \"yielding\"]\t1\n",
      "[\"under\", \"under\", \"the\"]\t2\n",
      "[\"unto\", \"unto\", \"one\"]\t1\n",
      "[\"upon\", \"upon\", \"the\"]\t3\n",
      "[\"version\", \"version\", \"textfile\"]\t1\n",
      "[\"void\", \"void\", \"and\"]\t1\n",
      "[\"was\", \"was\", \"good\"]\t2\n",
      "[\"was\", \"was\", \"light\"]\t1\n",
      "[\"was\", \"was\", \"so\"]\t3\n",
      "[\"was\", \"was\", \"upon\"]\t1\n",
      "[\"was\", \"was\", \"without\"]\t1\n",
      "[\"waters\", \"waters\", \"and\"]\t1\n",
      "[\"waters\", \"waters\", \"called\"]\t1\n",
      "[\"waters\", \"waters\", \"from\"]\t1\n",
      "[\"waters\", \"waters\", \"under\"]\t1\n",
      "[\"waters\", \"waters\", \"which\"]\t2\n",
      "[\"were\", \"were\", \"above\"]\t1\n",
      "[\"were\", \"were\", \"the\"]\t2\n",
      "[\"were\", \"were\", \"under\"]\t1\n",
      "[\"which\", \"which\", \"were\"]\t2\n",
      "[\"whose\", \"whose\", \"seed\"]\t1\n",
      "[\"without\", \"without\", \"form\"]\t1\n",
      "[\"yielding\", \"yielding\", \"fruit\"]\t1\n",
      "[\"yielding\", \"yielding\", \"seed\"]\t1\n"
     ]
    },
    {
     "name": "stderr",
     "output_type": "stream",
     "text": [
      "No configs found; falling back on auto-configuration\n",
      "Creating temp directory c:\\users\\nikitha\\appdata\\local\\temp\\bigramCount.Nikitha.20171022.155854.255000\n",
      "Running step 1 of 1...\n",
      "Streaming final output from c:\\users\\nikitha\\appdata\\local\\temp\\bigramCount.Nikitha.20171022.155854.255000\\output...\n",
      "Removing temp directory c:\\users\\nikitha\\appdata\\local\\temp\\bigramCount.Nikitha.20171022.155854.255000...\n"
     ]
    }
   ],
   "source": [
    "! python bigramCount.py ./.mrjob.conf data/test.txt"
   ]
  },
  {
   "cell_type": "markdown",
   "metadata": {},
   "source": [
    "## Using Nltk "
   ]
  },
  {
   "cell_type": "code",
   "execution_count": 51,
   "metadata": {},
   "outputs": [
    {
     "name": "stdout",
     "output_type": "stream",
     "text": [
      "(('and', 'evening', 'the'), 6)\n",
      "(('and', 'earth', 'the'), 6)\n",
      "(('from', 'the', 'waters'), 4)\n",
      "(('morning', 'the', 'were'), 4)\n",
      "(('face', 'of', 'the'), 4)\n",
      "(('and', 'god', 'said'), 4)\n",
      "(('god', 'let', 'said'), 4)\n",
      "(('and', 'called', 'god'), 3)\n",
      "(('it', 'so', 'was'), 3)\n",
      "(('and', 'the', 'waters'), 3)\n"
     ]
    }
   ],
   "source": [
    "import nltk\n",
    "\n",
    "f = open('data/test.txt')\n",
    "raw = f.read()\n",
    "#creates the tokens\n",
    "tokens = nltk.word_tokenize(raw)\n",
    "\n",
    "#By specifying the number of tokens we create trigrams\n",
    "trigrams = ngrams(token,3)\n",
    " \n",
    "unordered_trigrams = [tuple(sorted(n)) for n in list(nltk.trigrams(raw.split()))]\n",
    "fdist=nltk.FreqDist(unordered_trigrams)\n",
    "for k,v in sorted(fdist.items(), key=lambda t:t[-1], reverse=True)[:10]: # Retriveing the first 10 trigrams\n",
    "    print(k,v)    "
   ]
  },
  {
   "cell_type": "markdown",
   "metadata": {},
   "source": [
    "## Homework 5.4\n",
    "Create graphs to explain the relationship of the frequency of monograms ( words ) to bigrams and trigam frequencies"
   ]
  },
  {
   "cell_type": "code",
   "execution_count": 37,
   "metadata": {},
   "outputs": [
    {
     "data": {
      "image/png": "[encoded data removed]",
      "text/plain": [
       "<matplotlib.figure.Figure at 0x18dd5ac8>"
      ]
     },
     "metadata": {},
     "output_type": "display_data"
    },
    {
     "data": {
      "image/png": "[encoded data removed]",
      "text/plain": [
       "<matplotlib.figure.Figure at 0x18dd5c50>"
      ]
     },
     "metadata": {},
     "output_type": "display_data"
    },
    {
     "data": {
      "image/png": "[encoded data removed]",
      "text/plain": [
       "<matplotlib.figure.Figure at 0x248a3ac8>"
      ]
     },
     "metadata": {},
     "output_type": "display_data"
    }
   ],
   "source": [
    "import nltk\n",
    "from nltk import word_tokenize\n",
    "from nltk.util import ngrams\n",
    "import matplotlib.pyplot as plt\n",
    "\n",
    "text = open('data/test.txt') \n",
    "text = text.read()\n",
    "token = nltk.word_tokenize(text)\n",
    "monogram = ngrams(token,1) # Tokenizes the text with 2 words as a pair called monograms\n",
    "#print monogram\n",
    "bigrams = ngrams(token,2) # Tokenizes the text with 2 words as a pair called bigrams\n",
    "trigrams = ngrams(token,3) # Tokenizes the text with 2 words as a pair called trigrams\n",
    "#as shown above creates frequnecy distribution of \n",
    "fdist = nltk.FreqDist(monogram)\n",
    "# print fdist.items()\n",
    "fdist1 = nltk.FreqDist(bigrams)\n",
    "fdist2 = nltk.FreqDist(trigrams)\n",
    "plt.title(\"top 10 Monograms\")\n",
    "fdist.plot(10,cumulative=False)\n",
    "plt.title(\"top 10 Bigrams\")\n",
    "fdist1.plot(10,cumulative=False)\n",
    "plt.title(\"top 10 Trigrams\")\n",
    "fdist2.plot(10,cumulative=False)"
   ]
  },
  {
   "cell_type": "markdown",
   "metadata": {},
   "source": [
    "## For greater than a score of 3 \n",
    "###  Create a TD - IDF implementation and \n",
    "### Analyze the following Sherlock Holmes book from Project Gutenberg text versions of :\n",
    "The Adventures of Sherlock Holmes-  http://www.gutenberg.org/ebooks/1661.txt.utf-8\n",
    "\n",
    "A Study in Scarlet - http://www.gutenberg.org/files/244/244-0.txt\n",
    "\n",
    "The Hound of the Baskervilles - http://www.gutenberg.org/files/2852/2852-0.txt\n",
    "\n",
    "The Return of Sherlock Holmes - http://www.gutenberg.org/files/108/108-0.txt\n",
    "\n",
    "The Sign of the Four - http://www.gutenberg.org/ebooks/2097.txt.utf-8\n",
    "\n",
    "### Display the scores for the top 20 highest frequencty terms and the relationship to the books\n",
    "\n"
   ]
  },
  {
   "cell_type": "code",
   "execution_count": null,
   "metadata": {
    "collapsed": true
   },
   "outputs": [],
   "source": []
  }
 ],
 "metadata": {
  "kernelspec": {
   "display_name": "Python 2",
   "language": "python",
   "name": "python2"
  },
  "language_info": {
   "codemirror_mode": {
    "name": "ipython",
    "version": 2
   },
   "file_extension": ".py",
   "mimetype": "text/x-python",
   "name": "python",
   "nbconvert_exporter": "python",
   "pygments_lexer": "ipython2",
   "version": "2.7.13"
  }
 },
 "nbformat": 4,
 "nbformat_minor": 1
}
